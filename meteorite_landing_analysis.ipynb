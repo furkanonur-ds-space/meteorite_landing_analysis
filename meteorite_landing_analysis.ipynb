{
 "cells": [
  {
   "cell_type": "code",
   "execution_count": 1,
   "id": "24504f52-f048-4095-9b99-5b552c697b43",
   "metadata": {},
   "outputs": [],
   "source": [
    "import pandas as pd\n",
    "import matplotlib.pyplot as plt\n",
    "import folium as fol"
   ]
  },
  {
   "cell_type": "code",
   "execution_count": 2,
   "id": "f5bec6de-7a32-40bc-a14f-1f7b524081e4",
   "metadata": {},
   "outputs": [
    {
     "name": "stdout",
     "output_type": "stream",
     "text": [
      "First 5 rows of the dataset:\n",
      "       name   id nametype     recclass      mass  fall    year    reclat  \\\n",
      "0    Aachen    1    Valid           L5      21.0  Fell  1880.0  50.77500   \n",
      "1    Aarhus    2    Valid           H6     720.0  Fell  1951.0  56.18333   \n",
      "2      Abee    6    Valid          EH4  107000.0  Fell  1952.0  54.21667   \n",
      "3  Acapulco   10    Valid  Acapulcoite    1914.0  Fell  1976.0  16.88333   \n",
      "4   Achiras  370    Valid           L6     780.0  Fell  1902.0 -33.16667   \n",
      "\n",
      "     reclong               GeoLocation  \n",
      "0    6.08333     (50.775000, 6.083330)  \n",
      "1   10.23333    (56.183330, 10.233330)  \n",
      "2 -113.00000  (54.216670, -113.000000)  \n",
      "3  -99.90000   (16.883330, -99.900000)  \n",
      "4  -64.95000  (-33.166670, -64.950000)  \n",
      "\n",
      "Dataset info:\n",
      "<class 'pandas.core.frame.DataFrame'>\n",
      "RangeIndex: 45716 entries, 0 to 45715\n",
      "Data columns (total 10 columns):\n",
      " #   Column       Non-Null Count  Dtype  \n",
      "---  ------       --------------  -----  \n",
      " 0   name         45716 non-null  object \n",
      " 1   id           45716 non-null  int64  \n",
      " 2   nametype     45716 non-null  object \n",
      " 3   recclass     45716 non-null  object \n",
      " 4   mass         45585 non-null  float64\n",
      " 5   fall         45716 non-null  object \n",
      " 6   year         45428 non-null  float64\n",
      " 7   reclat       38401 non-null  float64\n",
      " 8   reclong      38401 non-null  float64\n",
      " 9   GeoLocation  38401 non-null  object \n",
      "dtypes: float64(4), int64(1), object(5)\n",
      "memory usage: 3.5+ MB\n",
      "None\n",
      "\n",
      "Statistical summary of the dataset:\n",
      "                 id          mass          year        reclat       reclong\n",
      "count  45716.000000  4.558500e+04  45428.000000  38401.000000  38401.000000\n",
      "mean   26889.735104  1.327808e+04   1991.772189    -39.122580     61.074319\n",
      "std    16860.683030  5.749889e+05     27.181247     46.378511     80.647298\n",
      "min        1.000000  0.000000e+00    301.000000    -87.366670   -165.433330\n",
      "25%    12688.750000  7.200000e+00   1987.000000    -76.714240      0.000000\n",
      "50%    24261.500000  3.260000e+01   1998.000000    -71.500000     35.666670\n",
      "75%    40656.750000  2.026000e+02   2003.000000      0.000000    157.166670\n",
      "max    57458.000000  6.000000e+07   2501.000000     81.166670    354.473330\n",
      "\n",
      "Key meteorite information:\n",
      "Heaviest meteor (g): 60000000.0\n",
      "Oldest meteor: 301.0\n",
      "Number of unique meteor classes: 466\n",
      "Number of falls vs finds:\n",
      "fall\n",
      "Found    44609\n",
      "Fell      1107\n",
      "Name: count, dtype: int64\n"
     ]
    }
   ],
   "source": [
    "# Load the dataset\n",
    "df = pd.read_csv(\"data/meteorite-landings.csv\")\n",
    "\n",
    "# TO DO 1: Display the first 5 rows of the dataset\n",
    "print(\"First 5 rows of the dataset:\")\n",
    "print(df.head())\n",
    "\n",
    "# TO DO 2: Get general information about the dataset\n",
    "print(\"\\nDataset info:\")\n",
    "print(df.info())\n",
    "\n",
    "# TO DO 3: Get a statistical summary of the numerical data\n",
    "print(\"\\nStatistical summary of the dataset:\")\n",
    "print(df.describe())\n",
    "\n",
    "# TO DO 4: Extract key insights from the data\n",
    "print(\"\\nKey meteorite information:\")\n",
    "print(\"Heaviest meteor (g):\", df[\"mass\"].max())\n",
    "print(\"Oldest meteor:\", df[\"year\"].min())\n",
    "print(\"Number of unique meteor classes:\", df[\"recclass\"].nunique())\n",
    "print(\"Number of falls vs finds:\")\n",
    "print(df[\"fall\"].value_counts())"
   ]
  },
  {
   "cell_type": "code",
   "execution_count": 3,
   "id": "0b835db9-a93c-42f6-8845-7e350c45cf48",
   "metadata": {},
   "outputs": [
    {
     "name": "stdout",
     "output_type": "stream",
     "text": [
      "\n",
      "Updated mass information (first 5 rows):\n",
      "       name      mass  mass (kg)\n",
      "0    Aachen      21.0      0.021\n",
      "1    Aarhus     720.0      0.720\n",
      "2      Abee  107000.0    107.000\n",
      "3  Acapulco    1914.0      1.914\n",
      "4   Achiras     780.0      0.780\n"
     ]
    }
   ],
   "source": [
    "# TO DO 1: Drop rows with missing values in the 'mass' column\n",
    "df = df.dropna(subset=[\"mass\"])\n",
    "\n",
    "# Convert mass from grams to kilograms and create a new column\n",
    "df[\"mass (kg)\"] = df[\"mass\"] / 1000\n",
    "print(\"\\nUpdated mass information (first 5 rows):\")\n",
    "print(df[[\"name\", \"mass\", \"mass (kg)\"]].head())\n",
    "\n",
    "# Save the updated data to a new CSV file\n",
    "df.to_csv(\"data/updated_meteorite-landings.csv\", index=False)"
   ]
  },
  {
   "cell_type": "code",
   "execution_count": 4,
   "id": "c1c7f13f-df59-42f9-a2a6-1f5f0139ed7e",
   "metadata": {},
   "outputs": [
    {
     "data": {
      "image/png": "[encoded data removed]",
      "text/plain": [
       "<Figure size 640x480 with 1 Axes>"
      ]
     },
     "metadata": {},
     "output_type": "display_data"
    },
    {
     "name": "stdout",
     "output_type": "stream",
     "text": [
      "\n",
      "Heavy meteors:\n",
      "                  name        mass    year\n",
      "5329   Campo del Cielo  50000000.0  1575.0\n",
      "5336         Cape York  58200000.0  1818.0\n",
      "16383             Hoba  60000000.0  1920.0\n"
     ]
    }
   ],
   "source": [
    "# TO DO 1: Plot a histogram for masses less than 5000g\n",
    "plt.hist(df[\"mass\"][df[\"mass\"] < 5000].dropna(), bins=50, color=\"skyblue\", edgecolor=\"black\")\n",
    "plt.xlabel(\"Meteor Mass (g)\")\n",
    "plt.ylabel(\"Count\")\n",
    "plt.title(\"Meteor Mass Distribution\")\n",
    "plt.grid(True)\n",
    "plt.show()\n",
    "\n",
    "# TO DO 2: Filter for meteors heavier than 40,000,000g\n",
    "heavy_meteors = df[df[\"mass\"] > 40000000]\n",
    "print(\"\\nHeavy meteors:\")\n",
    "print(heavy_meteors[[\"name\", \"mass\", \"year\"]].head())"
   ]
  },
  {
   "cell_type": "code",
   "execution_count": 5,
   "id": "cbe0914e-85a5-4995-9de6-625802ea1e69",
   "metadata": {},
   "outputs": [
    {
     "name": "stdout",
     "output_type": "stream",
     "text": [
      "\n",
      "Map successfully created and saved as 'meteor_map.html'.\n"
     ]
    }
   ],
   "source": [
    "# --- Geospatial Visualization ---\n",
    "# Prepare the data for map visualization\n",
    "df_geo = df.dropna(subset=[\"reclat\", \"reclong\"]).copy()\n",
    "df_geo.loc[:, \"reclat\"] = pd.to_numeric(df_geo[\"reclat\"], errors=\"coerce\")\n",
    "df_geo.loc[:, \"reclong\"] = pd.to_numeric(df_geo[\"reclong\"], errors=\"coerce\")\n",
    "df_geo = df_geo.dropna(subset=[\"reclat\", \"reclong\"])\n",
    "df_geo = df_geo.sort_values(by=\"mass\", ascending=False).head(5000)\n",
    "\n",
    "# Create the map object\n",
    "map = fol.Map(location=[0, 0], zoom_start=2)\n",
    "\n",
    "# Add a marker for each meteorite on the map\n",
    "for index, row in df_geo.iterrows():\n",
    "    year = int(row['year']) if pd.notnull(row[\"year\"]) else \"Unknown\"\n",
    "    popup_text = f\"{year}-{row['name']}-{row['mass']:.2f}\"\n",
    "    \n",
    "    radius = max(2, min(row[\"mass (kg)\"] / 5000, 15))\n",
    "    fol.CircleMarker(location=[row[\"reclat\"], row[\"reclong\"]],\n",
    "                     radius=radius,\n",
    "                     popup=popup_text,\n",
    "                     color=\"crimson\",\n",
    "                     fill=True,\n",
    "                     fill_opacity=0.7\n",
    "                     ).add_to(map)\n",
    "\n",
    "# Save the map as an HTML file\n",
    "map.save(\"meteor_map.html\")\n",
    "print(\"\\nMap successfully created and saved as 'meteor_map.html'.\")"
   ]
  }
 ],
 "metadata": {
  "kernelspec": {
   "display_name": "Python 3 (ipykernel)",
   "language": "python",
   "name": "python3"
  },
  "language_info": {
   "codemirror_mode": {
    "name": "ipython",
    "version": 3
   },
   "file_extension": ".py",
   "mimetype": "text/x-python",
   "name": "python",
   "nbconvert_exporter": "python",
   "pygments_lexer": "ipython3",
   "version": "3.13.5"
  }
 },
 "nbformat": 4,
 "nbformat_minor": 5
}
